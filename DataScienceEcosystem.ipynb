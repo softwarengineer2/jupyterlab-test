{
 "cells": [
  {
   "cell_type": "markdown",
   "id": "ac5d6930-d2d5-4f4a-81b2-cedaf3a185c2",
   "metadata": {},
   "source": [
    "<h1>Data Science Tools and Ecosystem</h1>"
   ]
  },
  {
   "cell_type": "markdown",
   "id": "df575e79-6fa9-4e3a-a5fd-0476c17d1d59",
   "metadata": {},
   "source": [
    "In this notebook, Data Science Tools and Ecosystem are summarized."
   ]
  },
  {
   "cell_type": "markdown",
   "id": "31adbbb9-24f0-44b2-9159-af4b5e4db83e",
   "metadata": {},
   "source": [
    "Some of the popular languages that Data Scientists use are:\n",
    "<ol>\n",
    "    <li>R</li>\n",
    "    <li>Python</li>\n",
    "    <li>C++</li>\n",
    "</ol>"
   ]
  },
  {
   "cell_type": "markdown",
   "id": "d90a6af1-4da9-4d8a-a655-1006c1f13b9a",
   "metadata": {},
   "source": [
    "Some of the commonly used libraries used by Data Scientists include:\n",
    "<ol>\n",
    "    <li>Pandas</li>\n",
    "    <li>NumPy</li>\n",
    "    <li>SciPy</li>\n",
    "</ol>"
   ]
  },
  {
   "cell_type": "markdown",
   "id": "b3f8aab1-d030-4264-877b-53c455e80f18",
   "metadata": {},
   "source": [
    "<table>\n",
    "    <tr>\n",
    "     <th>\n",
    "Data Science Tools\n",
    "     </th>\n",
    "    </tr>\n",
    "    <tr>\n",
    "     <td>\n",
    "RStudio\n",
    "     </td>\n",
    "    </tr>\n",
    "    <tr>\n",
    "     <td>\n",
    "Tensorflow\n",
    "     </td>\n",
    "    </tr>\n",
    "    <tr>\n",
    "     <td>\n",
    "Apache Hadoop\n",
    "     </td>\n",
    "    </tr>\n",
    "</table>"
   ]
  },
  {
   "cell_type": "markdown",
   "id": "7bfc6678-c380-4875-a0a6-226878f98f0b",
   "metadata": {},
   "source": [
    "<h3>Below are a few examples of evaluating arithmetic expressions in Python</h3>"
   ]
  },
  {
   "cell_type": "code",
   "execution_count": 4,
   "id": "2d6b1d7b-fe57-47dd-8662-1045d1265910",
   "metadata": {},
   "outputs": [
    {
     "data": {
      "text/plain": [
       "17"
      ]
     },
     "execution_count": 4,
     "metadata": {},
     "output_type": "execute_result"
    }
   ],
   "source": [
    "(3*4)+5"
   ]
  },
  {
   "cell_type": "code",
   "execution_count": 7,
   "id": "0eaa4c08-71d9-4958-bc13-ddbe554a25f0",
   "metadata": {},
   "outputs": [
    {
     "data": {
      "text/plain": [
       "3.3333333333333335"
      ]
     },
     "execution_count": 7,
     "metadata": {},
     "output_type": "execute_result"
    }
   ],
   "source": [
    "# This will convert 200 minutes to hours by diving by 60\n",
    "200/60"
   ]
  },
  {
   "cell_type": "markdown",
   "id": "4ac01b3c-a7c8-42bc-8acb-e951a26af3d8",
   "metadata": {},
   "source": [
    "Objectives:\n",
    "<ul>\n",
    "  <li>List popular languages for Data Science</li>\n",
    "  <li>List popular libraries for Data Science</li>\n",
    "  <li>List popular tools for Data Science</li>\n",
    "</ul>"
   ]
  },
  {
   "cell_type": "markdown",
   "id": "de45c31e-dbc0-4885-aa1e-2db501a7126d",
   "metadata": {},
   "source": [
    "<h2>Author</h2>\n",
    "Volkan"
   ]
  }
 ],
 "metadata": {
  "kernelspec": {
   "display_name": "Python 3 (ipykernel)",
   "language": "python",
   "name": "python3"
  },
  "language_info": {
   "codemirror_mode": {
    "name": "ipython",
    "version": 3
   },
   "file_extension": ".py",
   "mimetype": "text/x-python",
   "name": "python",
   "nbconvert_exporter": "python",
   "pygments_lexer": "ipython3",
   "version": "3.9.12"
  }
 },
 "nbformat": 4,
 "nbformat_minor": 5
}
